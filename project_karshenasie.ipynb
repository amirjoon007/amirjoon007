{
  "cells": [
    {
      "cell_type": "markdown",
      "id": "4d66d59c-117c-4cea-ae05-4a6eda4b5e74",
      "metadata": {
        "id": "4d66d59c-117c-4cea-ae05-4a6eda4b5e74"
      },
      "source": [
        "<h1>\n",
        "  <span style=\"color: #1E90FF;\">Clean </span>  <!-- DodgerBlue -->\n",
        "  <span style=\"color: #32CD32;\">Code </span>   <!-- LimeGreen -->\n",
        "  <span style=\"color: #FFA500;\">Learning</span> <!-- Orange -->\n",
        "</h1>\n"
      ]
    },
    {
      "cell_type": "markdown",
      "id": "b0e9ebdc-62d1-4630-b640-df1813a8918d",
      "metadata": {
        "id": "b0e9ebdc-62d1-4630-b640-df1813a8918d"
      },
      "source": [
        "<hr><hr><h2>Chapter 1 : Code formating and tools</h2>"
      ]
    },
    {
      "cell_type": "markdown",
      "id": "65b5ecd1-0bb8-4fdc-ba32-f17e9e67fa23",
      "metadata": {
        "id": "65b5ecd1-0bb8-4fdc-ba32-f17e9e67fa23"
      },
      "source": [
        "<p>\n",
        "Hello guys welcome to the first chapter of our learning . lets start !\n",
        "</p>\n",
        "<p>\n",
        "you know guys learning how to code is one thing and learning how to do clean coding is another thing . Consider a building made of diamonds and golds and a building made of rocks . They both are houses but one is fancy and priceless and another one isn't . That's how your code will look like if you use clean code or Not ! so the next time you start coding consider the cleaning of the code too !\n",
        "</p>"
      ]
    },
    {
      "cell_type": "markdown",
      "id": "696e6878-1c8e-4251-9d86-ee5915311cae",
      "metadata": {
        "id": "696e6878-1c8e-4251-9d86-ee5915311cae"
      },
      "source": [
        "<p>\n",
        "In this chapter I'm going to talk about the basics of the <b style=\"color: #1E90FF;\">clean </b><b style=\"color: #32CD32;\">code </b> , what it is and what it means .\n",
        "</p>"
      ]
    },
    {
      "cell_type": "markdown",
      "id": "03c21e9a-fe1a-4dec-b06a-08b6cf81902f",
      "metadata": {
        "id": "03c21e9a-fe1a-4dec-b06a-08b6cf81902f"
      },
      "source": [
        "<h3 style=\"color:#0B223D\">The meaning of clean code </h3>"
      ]
    },
    {
      "cell_type": "markdown",
      "id": "d8bb2d09-2895-4748-a9f8-ba9641584f56",
      "metadata": {
        "id": "d8bb2d09-2895-4748-a9f8-ba9641584f56"
      },
      "source": [
        "<p>\n",
        "There is no exact and strict defenition off <b>clean code </b>. Moreover , there is probably no way of formally measuring clean code, so you can't run a tool on a reespository that will tell you how good,bad or maintainable that code is ."
      ]
    },
    {
      "cell_type": "markdown",
      "id": "b5c74c6a-0d1b-4bec-bf3b-3abdb3a67943",
      "metadata": {
        "id": "b5c74c6a-0d1b-4bec-bf3b-3abdb3a67943"
      },
      "source": [
        "<p>\n",
        "For dacades, we thought that <b style=\"color:#5E5E5E\">programming languages </b>were meant to communicate our ideas to machines so they could run programs .It turned out we were wrong about it . The real purpose of these languages is to communicate our ideas to other developers . So if we want to be more accurate about the meaning of it we can relate the meaning of the clean code to the good or bad archietecture,code or anything that matters in coding in a way changes the readablity of our codes . With a clean codes the gates for other developers will be opened so they can help you upgrade your code and make it better .\n",
        "</p>"
      ]
    },
    {
      "cell_type": "markdown",
      "source": [
        "<h3 style=\"color:#0B223D\"> The importance of having clean code </h3>"
      ],
      "metadata": {
        "id": "1g3-f-SJxjdQ"
      },
      "id": "1g3-f-SJxjdQ"
    },
    {
      "cell_type": "markdown",
      "source": [
        "<p>\n",
        "There are a huge number of reasons why clean code is important. Most of them\n",
        "revolve around the ideas of <b style=\"color:#5E5E5E\">maintainability</b>, reducing technical debt, working\n",
        "effectively with agile development, and managing a successful project.<br>\n",
        "The idea of clean codes mostly want us to write codes in a way that we don't have to spend a lot of time on checking what exactly the last developer did . so If you want to move at a steady, constant, and predictable pace, the code needs to be maintainable and readable. If it is not, every time product management asks for a new feature, you will have to stop to refactor and fix the <b>technical debt</b>.\n",
        "</p>"
      ],
      "metadata": {
        "id": "4pf9KkRlxpno"
      },
      "id": "4pf9KkRlxpno"
    },
    {
      "cell_type": "markdown",
      "source": [
        "<h4>Technical debt</h4>"
      ],
      "metadata": {
        "id": "czz3Lz__zdha"
      },
      "id": "czz3Lz__zdha"
    },
    {
      "cell_type": "markdown",
      "source": [
        "<p>\n",
        "Technical debt refers to the concept of problems in the software as a result of a\n",
        "compromise or a bad decision being made. It's possible to think about technical debt\n",
        "in two ways :<li>From the present to the past: In a way that the problems we are currently\n",
        "facing are the result of previously written bad code <bR ><span style=\"color:##006699\">OR</span><br> <li>From the present to the\n",
        "future: if we decide to take a shortcut now, instead of investing time in a proper\n",
        "solution, what problems are we creating for ourselves further down the line ?</li>\n",
        "</p><p> So every time the team cannot deliver something on time and has to stop to fix and\n",
        "refactor the code, it is paying the price of technical debt.That's the place where we can see the impact of clean code ! <br>\n",
        "The worst thing about technical debt is that it represents a long-term and underlying\n",
        "problem. It is not something that raises an alarm. Instead, it is a silent problem,\n",
        "scattered across all parts of the project, that one day, at one particular time, will\n",
        "wake up and become a show-stopper.\n",
        "</p>"
      ],
      "metadata": {
        "id": "va_slQfTzk3J"
      },
      "id": "va_slQfTzk3J"
    },
    {
      "cell_type": "markdown",
      "source": [
        "All you need to consider is that <b>\"we write clean code so we can maintain a project.\"</b>. That means to be able to modify that code ourselves in the future, or, if we're transitioning the ownership of that code to another team in the company, to make this transition easier ."
      ],
      "metadata": {
        "id": "aR6hbtZ186g5"
      },
      "id": "aR6hbtZ186g5"
    },
    {
      "cell_type": "markdown",
      "source": [
        "<h3>Code formatting and style </h3>"
      ],
      "metadata": {
        "id": "8cs5MYdg9iGJ"
      },
      "id": "8cs5MYdg9iGJ"
    },
    {
      "cell_type": "markdown",
      "source": [
        "<p>\n",
        "You may have hear about the PEP8 that says some explanations about how the code should be formatted . This standard provides us some guidlines on how to write programs in term of spacing ,naming,line length and some other stuffs .\n",
        "The bad news is clean code is something beyond the PEP8 and other coding standards . It's all about achieving quality software and building a system that is <b>robust and maintainable </b>\n",
        "<p>\n",
        "The first thing we all should learn about is to have dicipline . By that we will get the mistakes happend in the code faster and we will have a higher quality of coding in our company . let's take a example for you : <br> Suppose you are in the company and you have a rules there on how to write codes . So in the case you write a code with wrong pattern the others get this anomaly faster and easily so the project will not face the failure and every problem goes away easier . </p>\n",
        "<p>\n",
        "When the codeis structured randomly, without following any logic, or adhering to any standard,then it would be as difficult for us to spot mistakes as a novice developer. On theother hand, if we are used to reading code in a structured fashion, and we havelearned to get ideas quickly from the code by following patterns, then we are at a considerable advantage.<br>\n",
        "For python it's more common among peaopleto use PEP8 as pattern to shape the style of their coding . So try to use this standard .\n",
        "</p>"
      ],
      "metadata": {
        "id": "NWPxuVov_2Sp"
      },
      "id": "NWPxuVov_2Sp"
    },
    {
      "cell_type": "markdown",
      "source": [
        "<P>\n",
        "We are now discuss about some key quality traits highlighted in PEP-8 and how adhering to these guidelines can improve your project's code quality. Here is some of them :\n",
        "</p>\n",
        "<h4>1:) searchablity : </h4>\n",
        "<p>Searchablity is the ability to quickly identify and locate specific parts of the code. It allows developers to efficiently find particular strings or tokens within files.<br>As you can see below in the example we look for the parameter named \"location\" so we used grep command and it shown us where does parameter named \"location\" is assigned a value.</p>"
      ],
      "metadata": {
        "id": "nCV2SBB-ED-o"
      },
      "id": "nCV2SBB-ED-o"
    },
    {
      "cell_type": "markdown",
      "source": [
        "<img src=\"https://raw.githubusercontent.com/amirjoon007/cleancode_packt/main/fig/chap1-1.jpg\" alt=\"Image not found\">\n",
        "<br>\n",
        "<p>This command above searches for the keyword \"location=\" without spaces around the equals sign, indicating a keyword argument.<br><br>To find where the variable location is assigned a value, you can use:\n",
        "</p>\n",
        "<br>\n",
        "<img src=\"https://raw.githubusercontent.com/amirjoon007/cleancode_packt/main/fig/chapter1-2.png\n",
        "\" alt=\"Image not found\">\n",
        "<br>"
      ],
      "metadata": {
        "id": "GVlTYZyW2lWa"
      },
      "id": "GVlTYZyW2lWa"
    },
    {
      "cell_type": "markdown",
      "source": [
        "<h3>2:) consistancy :</h3>"
      ],
      "metadata": {
        "id": "UYC6x8KT9dFI"
      },
      "id": "UYC6x8KT9dFI"
    },
    {
      "cell_type": "markdown",
      "source": [
        "<p>\n",
        "Consistency in code formatting ensures that the code looks uniform across the entire project, making it easier to read and understand.It also helps maintain readability and reduces cognitive load .\n",
        "Some of the important guidlines mentioned in PEP8 are as follows :\n",
        "<p><h4>A : Naming conventions</h4> : Using clear and descriptive names for variables and functions is indeed a best practice in programming. It enhances code readability and maintainability, making it easier for others (and yourself) to understand the purpose and functionality of your code.\n",
        "<br> <h5>Advices Of Experts : </h5>\n",
        "<li><b>Be Descriptive</b>: Choose names that clearly describe what the variable or function does.</li>\n",
        "<ul><li>good form : data_sum</li>      <li>bad form : ds</li>        </li></ul>\n",
        "<li><b>Use Consistent Naming Patterns: </b>Follow a consistent naming convention throughout your codebase.</li>\n",
        "<li><b>Avoid Abbreviations:</b>Unless they are universally understood, avoid using abbreviations or acronyms .</li>\n",
        "<li><b>Use Nouns for Variables and Verbs for Functions: </b>This makes it clear what the variable represents and what the function does.</li>\n",
        "</p>\n",
        "<h5>variables :</h5>\n",
        "<li><b>Good :</b></li>\n",
        "</p>"
      ],
      "metadata": {
        "id": "Q1foOKruFvBI"
      },
      "id": "Q1foOKruFvBI"
    },
    {
      "cell_type": "code",
      "source": [
        "U_Age = 25\n",
        "totalPrice = 100.50\n",
        "interestRate = 0.05\n"
      ],
      "metadata": {
        "id": "1Q623lUKFzPh"
      },
      "id": "1Q623lUKFzPh",
      "execution_count": null,
      "outputs": []
    },
    {
      "cell_type": "markdown",
      "source": [
        "<li>Bad :</li>"
      ],
      "metadata": {
        "id": "ZQKv4Ba4OB-w"
      },
      "id": "ZQKv4Ba4OB-w"
    },
    {
      "cell_type": "code",
      "source": [
        "ua = 25\n",
        "tp = 100.50\n",
        "ir = 0.05"
      ],
      "metadata": {
        "id": "u4EQnDBXObVX"
      },
      "id": "u4EQnDBXObVX",
      "execution_count": null,
      "outputs": []
    },
    {
      "cell_type": "markdown",
      "source": [
        "<li>Functions :</li>"
      ],
      "metadata": {
        "id": "715Oi3nROtVR"
      },
      "id": "715Oi3nROtVR"
    },
    {
      "cell_type": "markdown",
      "source": [
        "<li>Good :</li>"
      ],
      "metadata": {
        "id": "uqxZMubWObzK"
      },
      "id": "uqxZMubWObzK"
    },
    {
      "cell_type": "code",
      "source": [
        "def calculate_interest(principal, rate, time):\n",
        "    return principal * rate * time\n",
        "\n",
        "def is_user_logged_in(user):\n",
        "    return user.is_authenticated\n"
      ],
      "metadata": {
        "id": "J4jsQJjXO5AB"
      },
      "id": "J4jsQJjXO5AB",
      "execution_count": null,
      "outputs": []
    },
    {
      "cell_type": "markdown",
      "source": [
        "<li>Bad :</li>"
      ],
      "metadata": {
        "id": "6JvdMd8nO57P"
      },
      "id": "6JvdMd8nO57P"
    },
    {
      "cell_type": "code",
      "source": [
        "def ci(p, r, t):\n",
        "    return p * r * t\n",
        "\n",
        "def chk_usr_lgn(u):\n",
        "    return u.auth\n"
      ],
      "metadata": {
        "id": "P3ONkzlBO9JP"
      },
      "id": "P3ONkzlBO9JP",
      "execution_count": null,
      "outputs": []
    },
    {
      "cell_type": "markdown",
      "source": [
        "<h4>B:) Indentation Rules :</h4>\n",
        "<p> Stick to an indentation of four spaces for each level. This approach helps in creating a visual structure in your code, making it more readable.</p>\n",
        "<br>\n",
        "<h4>C:) Managing Line Length:</h4>\n",
        "<p>Keep your lines up to a maximum of 79 characters. This practice is not just about aesthetics; it is about making sure your code is easily readable on different devices and text editors.</p>\n",
        "<br>\n",
        "<h4>D:) Whitespace Usage:</h4>\n",
        "<p>Be judicious in your use of whitespace in expressions and statements. The goal is to use it in a way that logically separates different parts of your code without making it feel overcrowded.</p>\n",
        "\n"
      ],
      "metadata": {
        "id": "UK_DQkG7faLw"
      },
      "id": "UK_DQkG7faLw"
    },
    {
      "cell_type": "markdown",
      "source": [
        "<h3>3:) Better Error Handling :</h3>\n",
        "<p>Proper error handling involves writing code that effectively manages exceptions and errors, reducing the likelihood of bugs.It's suggested to Limit the amount of code inside a <b>try/except block</b> to minimize the risk of swallowing exceptions and masking bugs.<br>As an example you may want to check this out : </p>"
      ],
      "metadata": {
        "id": "k6jMnT6ViKvA"
      },
      "id": "k6jMnT6ViKvA"
    },
    {
      "cell_type": "code",
      "source": [
        "try:\n",
        "    result = risky_operation()\n",
        "except SpecificException as e:\n",
        "    handle_error(e)"
      ],
      "metadata": {
        "id": "DBJwvbjpjzCL"
      },
      "id": "DBJwvbjpjzCL",
      "execution_count": null,
      "outputs": []
    },
    {
      "cell_type": "markdown",
      "source": [
        "<hr>"
      ],
      "metadata": {
        "id": "FhFdOYuoR86Y"
      },
      "id": "FhFdOYuoR86Y"
    },
    {
      "cell_type": "markdown",
      "source": [
        "<h3>Documentation</h3>"
      ],
      "metadata": {
        "id": "hWUNi80iSBdP"
      },
      "id": "hWUNi80iSBdP"
    },
    {
      "cell_type": "markdown",
      "source": [
        "<B>Intro : <br></b> <b>Good documentation</b> is essential for maintaining readable and understandable code. In Python, documentation within the code can be done using docstrings and annotations. This section will guide you through the importance and usage of these tools, while also briefly touching on code comments to clarify their distinction from documentation."
      ],
      "metadata": {
        "id": "schKownmSWHo"
      },
      "id": "schKownmSWHo"
    },
    {
      "cell_type": "markdown",
      "source": [
        "<p>let's talk about what documenting is !<br>\n",
        "Documenting code involves explaining what the code is supposed to do, not how it does it. This helps future readers understand the purpose and usage of the code.</p>"
      ],
      "metadata": {
        "id": "c6YHgorxkS6a"
      },
      "id": "c6YHgorxkS6a"
    },
    {
      "cell_type": "markdown",
      "source": [
        "<h3>Code comments </h3>"
      ],
      "metadata": {
        "id": "vMBGcS7z2_eX"
      },
      "id": "vMBGcS7z2_eX"
    },
    {
      "cell_type": "markdown",
      "source": [
        "<p>As a general rule, we should aim to have as few code comments as possible . This will help us not to have a messy style of code so we don't get confused . In fact the code itself should be able to tell us some informations about himself . If you do the naming on classes and objs very carefully and clean then you don't need to have bunch of comments . </p>"
      ],
      "metadata": {
        "id": "DErgk2Qi6dmM"
      },
      "id": "DErgk2Qi6dmM"
    },
    {
      "cell_type": "markdown",
      "source": [
        "<h3>Docstrings</h3>"
      ],
      "metadata": {
        "id": "hUDc1E431yax"
      },
      "id": "hUDc1E431yax"
    },
    {
      "cell_type": "markdown",
      "source": [
        "There's also another thing called <b>Docstring</b> . Docstrings are a special type of comment used to describe the purpose of a function, method, class, or module. They are written within triple quotes (\"\"\" \"\"\")"
      ],
      "metadata": {
        "id": "pBuIdpwo1Ks4"
      },
      "id": "pBuIdpwo1Ks4"
    },
    {
      "cell_type": "code",
      "source": [
        "class Animal:\n",
        "    \"\"\"\n",
        "    A class to represent an animal.\n",
        "\n",
        "    Attributes:\n",
        "    name (str): The name of the animal.\n",
        "    species (str): The species of the animal.\n",
        "    \"\"\"\n",
        "\n",
        "    def __init__(self, name, species):\n",
        "        self.name = name\n",
        "        self.species = species\n"
      ],
      "metadata": {
        "id": "1hEkd2U_93R0"
      },
      "id": "1hEkd2U_93R0",
      "execution_count": null,
      "outputs": []
    },
    {
      "cell_type": "markdown",
      "source": [
        "<p>Docstrings are intended to provide documentation for a particular component\n",
        "(a module, class, method, or function) in the code that will be useful for other\n",
        "developers. The idea is that when other engineers want to use the component\n",
        "you're writing, they'll most likely take a look at the docstring to understand how\n",
        "it's supposed to work, what the expected inputs and outputs are, and so on . One of the benefits of this actin is that the other developer checking our code gets more motivated to follow our code progress .<br>in fact by writing docstring for your code you explain what the structure is for this code and they don't need to r=test it using experience . they just check the docstring and they will know what parameters can be recieved by funcs or classes .</p>"
      ],
      "metadata": {
        "id": "3b1Rjv6aBEOR"
      },
      "id": "3b1Rjv6aBEOR"
    },
    {
      "cell_type": "markdown",
      "source": [
        "Here, the docstring for the update method on dictionaries\n",
        "\n"
      ],
      "metadata": {
        "id": "zQ-L6iv7Btp1"
      },
      "id": "zQ-L6iv7Btp1"
    },
    {
      "cell_type": "markdown",
      "source": [
        "<p>We can pass something with a .keys() method (for example, another\n",
        "dictionary), and it will update the original dictionary with the keys from\n",
        "the object passed per parameter</p>"
      ],
      "metadata": {
        "id": "oAyWW1meCofY"
      },
      "id": "oAyWW1meCofY"
    },
    {
      "cell_type": "markdown",
      "source": [
        "<img src=\"https://github.com/amirjoon007/cleancode_packt/blob/main/fig/chapeter1-3.png?raw=true\" alt=\"Chapter 1-3 Image\">\n",
        "\n"
      ],
      "metadata": {
        "id": "jdYGvSHHC4KQ"
      },
      "id": "jdYGvSHHC4KQ"
    },
    {
      "cell_type": "markdown",
      "source": [
        "We can pass an iterable of pairs of keys and values, and we will unpack them\n",
        "to update:"
      ],
      "metadata": {
        "id": "ViGOQrRhFygS"
      },
      "id": "ViGOQrRhFygS"
    },
    {
      "cell_type": "markdown",
      "source": [
        "<img src=\"https://github.com/amirjoon007/cleancode_packt/blob/main/fig/chapter1-4.png?raw=true\" alt=\"Chapter 1-4 Image\">\n"
      ],
      "metadata": {
        "id": "Q14QQPs7Fwo6"
      },
      "id": "Q14QQPs7Fwo6"
    },
    {
      "cell_type": "markdown",
      "source": [
        "It's also telling us that we can update the dictionary with values taken from\n",
        "keyword arguments:"
      ],
      "metadata": {
        "id": "EWpjTABMF3Wq"
      },
      "id": "EWpjTABMF3Wq"
    },
    {
      "cell_type": "markdown",
      "source": [
        "\n",
        "\n",
        "<img src=\"https://github.com/amirjoon007/cleancode_packt/blob/main/fig/chapter1-5.png?raw=true\" alt=\"Chapter 1-5 Image\">\n"
      ],
      "metadata": {
        "id": "yDWsVKhaF4K-"
      },
      "id": "yDWsVKhaF4K-"
    },
    {
      "cell_type": "markdown",
      "source": [
        "<p>The docstring is not something separated or isolated from the code. It becomes\n",
        "part of the code, and you can access it. When an object has a docstring defined, this\n",
        "becomes part of it via its __doc__ attribute:</p>"
      ],
      "metadata": {
        "id": "Gwv-bg7KGOnZ"
      },
      "id": "Gwv-bg7KGOnZ"
    },
    {
      "cell_type": "markdown",
      "source": [
        "<img src=\"https://github.com/amirjoon007/cleancode_packt/blob/main/fig/chapter1-6.png?raw=true\" alt=\"Chapter 1-6 Image\" width=\"600\">\n"
      ],
      "metadata": {
        "id": "Pv6mb39aGz36"
      },
      "id": "Pv6mb39aGz36"
    },
    {
      "cell_type": "markdown",
      "source": [
        "<p>\n",
        "When the writing of your docstring finished just make it public so everyone read that prject gets benefit of your docstring and gets the full potential of your code . <br>\n",
        "For open-source projects all you need to do is just going to (https://readthedocs.org/), which will generate the documentation\n",
        "automatically per branch or version . </p>"
      ],
      "metadata": {
        "id": "WAqHJBikG144"
      },
      "id": "WAqHJBikG144"
    },
    {
      "cell_type": "markdown",
      "source": [
        "Like every other thing in this universe the docstring has some downs too . it should be written manually and it depends on the maintenance so each time the code upgrades this should be upgraded too.Also it should be accurate and detailed too so writing docstring is quite heavy and needs a little more bit of effort ."
      ],
      "metadata": {
        "id": "KG3BSg2ZH-BT"
      },
      "id": "KG3BSg2ZH-BT"
    },
    {
      "cell_type": "markdown",
      "source": [
        "<hr>"
      ],
      "metadata": {
        "id": "Pjp2V-w-hcdL"
      },
      "id": "Pjp2V-w-hcdL"
    },
    {
      "cell_type": "markdown",
      "source": [
        "<h3>Annotations</h3>"
      ],
      "metadata": {
        "id": "PJWt7tvyhckv"
      },
      "id": "PJWt7tvyhckv"
    },
    {
      "cell_type": "markdown",
      "source": [
        "<h4>What are Annotations ?</h4>\n",
        "<p>This the question you need to ask after getting informed about docstrings .Trust me you are going to need both docstrings and annoations for your codes!</p>\n",
        "<p><b>Defenition :</b> The basic idea of <b>Annotations</b> is to hint\n",
        "to the readers of the code about what to expect as values of arguments in functions.\n",
        "\n"
      ],
      "metadata": {
        "id": "BanbK7R2jNZO"
      },
      "id": "BanbK7R2jNZO"
    },
    {
      "cell_type": "code",
      "source": [
        "@dataclass\n",
        "class Point:\n",
        "    lat: float\n",
        "    long: float\n",
        "\n",
        "def locate(latitude: float, longitude: float) -> Point:\n",
        "    \"\"\"Find an object in the map by its coordinates\"\"\"\n"
      ],
      "metadata": {
        "id": "AsqCaY35TOTy"
      },
      "id": "AsqCaY35TOTy",
      "execution_count": null,
      "outputs": []
    },
    {
      "cell_type": "markdown",
      "source": [
        "<p>As you see in the above example we defined some parts that give us informations about the types should be entered as input and the type we recieve as output .</p> In the example :\n",
        "<li>Lat and Long suggested to be used as float variables </li>\n",
        "<li>we have \" -> \" : which shows the output of the function iS a instance of a class \"Point\" .</li>"
      ],
      "metadata": {
        "id": "mlPhEA0Vf0To"
      },
      "id": "mlPhEA0Vf0To"
    },
    {
      "cell_type": "markdown",
      "source": [
        "Now you know that annotation's aiding readability and maintanance ."
      ],
      "metadata": {
        "id": "fRHp8pjnhdZb"
      },
      "id": "fRHp8pjnhdZb"
    },
    {
      "cell_type": "code",
      "source": [
        "def add(a: int, b: int) -> int:\n",
        "    \"\"\"Adds two integers and returns the result\"\"\"\n",
        "    return a + b\n"
      ],
      "metadata": {
        "id": "LTfNJyXlhskS"
      },
      "id": "LTfNJyXlhskS",
      "execution_count": null,
      "outputs": []
    },
    {
      "cell_type": "markdown",
      "source": [
        "In this example we have both annotation and docstrings .\n",
        "<li>\"a\" and \"b\" are expected to be integers .</li>\n",
        "<li>The function returns an integer as output .</li>"
      ],
      "metadata": {
        "id": "AcOzFhCYhu5A"
      },
      "id": "AcOzFhCYhu5A"
    },
    {
      "cell_type": "markdown",
      "source": [
        "<p> <b>Using Annotations for More than Just Types : </b>\n",
        "\n"
      ],
      "metadata": {
        "id": "VL8rP8GPidyV"
      },
      "id": "VL8rP8GPidyV"
    },
    {
      "cell_type": "code",
      "source": [
        "Seconds = float\n",
        "\n",
        "def launch_task(delay: Seconds):\n",
        "    \"\"\"Launch a task after a delay\"\"\"\n",
        "    ...\n"
      ],
      "metadata": {
        "id": "osOTWaMcqOlL"
      },
      "id": "osOTWaMcqOlL",
      "execution_count": null,
      "outputs": []
    },
    {
      "cell_type": "markdown",
      "source": [
        "<li>seconds is a type alias for \"float\" .</li>\n",
        "<li>This abstraction improves expressiveness and can be reused.\n",
        "</li>\n",
        "<br>"
      ],
      "metadata": {
        "id": "oK8prJ55qRw5"
      },
      "id": "oK8prJ55qRw5"
    },
    {
      "cell_type": "markdown",
      "source": [
        "<div>Now that you know about the annotations let's make progress and take it to another level .</div> <br>\n",
        "<h4>Special Attribute: \" __annotations__ \"</h4>\n",
        "<p>Actually when you use annotations, Python automatically creates a special attribute called __annotations__ that contains a dictionary mapping variable names to their annotated types.</p>"
      ],
      "metadata": {
        "id": "dOOFsU8Fqr13"
      },
      "id": "dOOFsU8Fqr13"
    },
    {
      "cell_type": "code",
      "source": [
        "def locate(latitude: float, longitude: float) -> Point:\n",
        "    return Point(lat=latitude, long=longitude)\n",
        "\n",
        "print(locate.__annotations__)\n"
      ],
      "metadata": {
        "id": "iagZV8mO9325"
      },
      "id": "iagZV8mO9325",
      "execution_count": null,
      "outputs": []
    },
    {
      "cell_type": "markdown",
      "source": [
        "<h4>output :</h4>"
      ],
      "metadata": {
        "id": "tmtXk3vD95qR"
      },
      "id": "tmtXk3vD95qR"
    },
    {
      "cell_type": "code",
      "source": [
        "#{'latitude': <class 'float'>, 'longitude': <class 'float'>, 'return': <class 'Point'>}"
      ],
      "metadata": {
        "id": "8aZQ-4NH90sp"
      },
      "id": "8aZQ-4NH90sp",
      "execution_count": null,
      "outputs": []
    },
    {
      "cell_type": "markdown",
      "source": [
        "<p>This dictionary can be used to generate documentation, run validations, or enforce checks.<p>"
      ],
      "metadata": {
        "id": "Sx8_L9oK8rfB"
      },
      "id": "Sx8_L9oK8rfB"
    },
    {
      "cell_type": "markdown",
      "source": [
        "<hr><h4>Type Hinting :</h4>\n",
        "<p>PEP-484 introduced type hinting, which allows for the checking of types in functions using annotations. This makes the code clearer and helps us to catch potential issues.</p>"
      ],
      "metadata": {
        "id": "UY0iLnNe-Is3"
      },
      "id": "UY0iLnNe-Is3"
    },
    {
      "cell_type": "markdown",
      "source": [
        "<p>We have Type hinting tools like <b><i>mypy</i></b> and <b><i>pytype<i></b> can be used to check types in the code, functioning similarly to linters by validating that the types used are consistent.</p>"
      ],
      "metadata": {
        "id": "N5igWpdCTm_n"
      },
      "id": "N5igWpdCTm_n"
    },
    {
      "cell_type": "markdown",
      "source": [
        "<h4>Enhancing Code Readability with Annotations</h4>\n",
        "<p>Annotations help make code more expressive by providing clear expectations about the types of variables and return values.</p><br>\n",
        "<h5>Example:</h5>"
      ],
      "metadata": {
        "id": "Tve8e_qPUPDe"
      },
      "id": "Tve8e_qPUPDe"
    },
    {
      "cell_type": "code",
      "source": [
        "from typing import Tuple\n",
        "\n",
        "Client = Tuple[int, str]\n",
        "\n",
        "def process_clients(clients: list[Client]):\n",
        "    ...\n"
      ],
      "metadata": {
        "id": "AgEZcsF8Z7eU"
      },
      "id": "AgEZcsF8Z7eU",
      "execution_count": null,
      "outputs": []
    },
    {
      "cell_type": "markdown",
      "source": [
        "<br><h4>PEP-526 and PEP-557: Compact Class Definitions</h4>\n",
        "<p>PEP-526 and PEP-557 introduced new ways to write classes more compactly using <b>annotations</b> and the <b>@dataclass</b> decorator.</p>"
      ],
      "metadata": {
        "id": "k7LixmL_aacx"
      },
      "id": "k7LixmL_aacx"
    },
    {
      "cell_type": "code",
      "source": [
        "from dataclasses import dataclass\n",
        "\n",
        "@dataclass\n",
        "class Point:\n",
        "    lat: float\n",
        "    long: float\n",
        "\n",
        "print(Point.__annotations__)"
      ],
      "metadata": {
        "id": "zB5jrME8a-zh"
      },
      "id": "zB5jrME8a-zh",
      "execution_count": null,
      "outputs": []
    },
    {
      "cell_type": "markdown",
      "source": [
        "<br><h4>Output</h4>"
      ],
      "metadata": {
        "id": "h-qDcf3dbDGn"
      },
      "id": "h-qDcf3dbDGn"
    },
    {
      "cell_type": "code",
      "source": [
        "{'lat': <class 'float'>, 'long': <class 'float'>}"
      ],
      "metadata": {
        "id": "fdBPva-ibDMP"
      },
      "id": "fdBPva-ibDMP",
      "execution_count": null,
      "outputs": []
    },
    {
      "cell_type": "markdown",
      "source": [
        "<p>This allows for defining class attributes with types without having to explicitly declare them in the __init__ method.</p>"
      ],
      "metadata": {
        "id": "MRAKu-OSbcRR"
      },
      "id": "MRAKu-OSbcRR"
    },
    {
      "cell_type": "markdown",
      "source": [
        "<hr>\n",
        "<h4>Docstrings or Annoations , which one is better ? </h4>\n",
        "<p>The answer is None , and this is because they complement each other and they are both as neccesery as another is .\n",
        "<br>It is true that a part of the information previously contained in the docstring can now be moved to the annotations . But this should only leave more room for better documentation in the docstring. In particular, for\n",
        "<b>dynamic</b> and nested data types, it is always a good idea to provide examples of the expected data so that we can get a better idea of what we are dealing with.\n",
        "</p>"
      ],
      "metadata": {
        "id": "7GUAZ9ZzgRj1"
      },
      "id": "7GUAZ9ZzgRj1"
    },
    {
      "cell_type": "markdown",
      "source": [
        "<h4>Example</h4>\n",
        "<p>Let's check this examole together . This example have a func that expects a dic to validate some data .\n",
        "</p>"
      ],
      "metadata": {
        "id": "hk0yiQuxh17s"
      },
      "id": "hk0yiQuxh17s"
    },
    {
      "cell_type": "code",
      "source": [
        "def data_from_response(response: dict) -> dict:\n",
        "    if response[\"status\"] != 200:\n",
        "        raise ValueError\n",
        "    return {\"data\": response[\"payload\"]}"
      ],
      "metadata": {
        "id": "KfHrTuKjglBE"
      },
      "id": "KfHrTuKjglBE",
      "execution_count": null,
      "outputs": []
    },
    {
      "cell_type": "markdown",
      "source": [
        "<p>The first thing you may have noticed is that it has a dictionary as an input and returns another dictionary as well as an output . </p>\n",
        "<p>But there are couple of problems that when you look deeper into the code you'll notice .\n",
        "for example : what does a correct instance of a response look like ? or what would an insance of result would look like ?\n",
        "These are just a few questions that we may have . So what's the cure ?\n",
        "Let's check together :</p>"
      ],
      "metadata": {
        "id": "s7SEYej2iP_T"
      },
      "id": "s7SEYej2iP_T"
    },
    {
      "cell_type": "code",
      "source": [
        "def data_from_response(response: dict) -> dict:\n",
        "    \"\"\"If the response is OK, return its payload.\n",
        "\n",
        "    Args:\n",
        "        response (dict): A dictionary with the following structure::\n",
        "\n",
        "            {\n",
        "                \"status\": 200,  # <int>\n",
        "                \"timestamp\": \"....\",  # ISO format string of the current date time\n",
        "                \"payload\": { ... }  # dict with the returned data\n",
        "            }\n",
        "\n",
        "    Returns:\n",
        "        dict: A dictionary with the following structure::\n",
        "\n",
        "            {\"data\": { .. }}\n",
        "\n",
        "    Raises:\n",
        "        ValueError: If the HTTP status is not 200.\n",
        "    \"\"\"\n",
        "    if response[\"status\"] != 200:\n",
        "        raise ValueError\n",
        "    return {\"data\": response[\"payload\"]}\n"
      ],
      "metadata": {
        "id": "HhtFHBp_jFbf"
      },
      "id": "HhtFHBp_jFbf",
      "execution_count": null,
      "outputs": []
    },
    {
      "cell_type": "markdown",
      "source": [
        "<p>\n",
        "Now you know the answer of all questions mentioned earlier . All you need was just a <b>DOCSTRING</b> to unlock the gates of knowledge to other developers who wants to read your code .Documentation is like a bridge that connects the developer/s to other developers and aslo the unit test . We know what type of data shall be recieved and what errors should be raised so the testing of product will be much easier .\n",
        "</p>"
      ],
      "metadata": {
        "id": "3arwGrpSj3Bz"
      },
      "id": "3arwGrpSj3Bz"
    },
    {
      "cell_type": "markdown",
      "source": [
        "<hr><h3>Tooling</h3>"
      ],
      "metadata": {
        "id": "TFbVycvUxFgQ"
      },
      "id": "TFbVycvUxFgQ"
    },
    {
      "cell_type": "markdown",
      "source": [
        "<p>\n",
        "Investing time in code reviews is crucial for maintaining high-quality code.There are some points we should consider during reviews :</p>\n",
        "<li>THe code be easy to understand</li>\n",
        "<li>To check if the code relates to the domain of the problems</li>\n",
        "<li>New member be able to get sync with other and can read the code easily .\n",
        "\n",
        "<br><p>As we discussed earlier we used documentation and other things to satisfy above needs .Now we want to step up and make it a litlle bit automated in the structure . All in all The tools presented in this section will give you an idea of checks you could automatically perform on the code. These tools should enforce some standards.Generally, they're configurable, and it would be perfectly fine for each repository to have its own configuration.</p>"
      ],
      "metadata": {
        "id": "M2L54jbyxW_Q"
      },
      "id": "M2L54jbyxW_Q"
    },
    {
      "cell_type": "markdown",
      "source": [
        "<h4>Checking type cnsistancy </h4>\n",
        "<h5>Importance of Type Consistancy :</h5>\n",
        "<p>Type consistency is essential for catching potential bugs early in the development process. Python is dynamically typed, but adding type annotations helps make the code more readable and allows tools to check for type-related errors automatically.</p>\n",
        "<BR><h5>Tools for Type Checking :</h5>\n",
        "<p>There are cuple of tools can help us doing the purpose of type checking . We'll focus on <i>mpy</i> and <i>pytype</i> .</p>\n",
        "<br><h5>Mpy</h5>\n",
        "<p>Mypy is a tool for optional static type checking in Python. It analyzes the code and checks for type inconsistencies, often catching bugs early. To use mypy, follow these steps:</p><br>\n",
        "<div>1.Install Mypy</div>\n",
        "\n"
      ],
      "metadata": {
        "id": "_EyslPk0WnWV"
      },
      "id": "_EyslPk0WnWV"
    },
    {
      "cell_type": "code",
      "source": [
        "$ pip install mypy"
      ],
      "metadata": {
        "id": "cgDzU0AqpG6W"
      },
      "id": "cgDzU0AqpG6W",
      "execution_count": null,
      "outputs": []
    },
    {
      "cell_type": "markdown",
      "source": [
        "<div>2.Run Mypy<div>"
      ],
      "metadata": {
        "id": "MFz1nU-VpJl2"
      },
      "id": "MFz1nU-VpJl2"
    },
    {
      "cell_type": "code",
      "source": [
        "$ mypy your_project/\n"
      ],
      "metadata": {
        "id": "MnX1Eu3cqFk8"
      },
      "id": "MnX1Eu3cqFk8",
      "execution_count": null,
      "outputs": []
    },
    {
      "cell_type": "markdown",
      "source": [
        "<b><p>Ignore false positives </b>: <br>if mypy reports a false positive, you can ignore that line with a special marker . </p>"
      ],
      "metadata": {
        "id": "6x-ksmMspJwP"
      },
      "id": "6x-ksmMspJwP"
    },
    {
      "cell_type": "code",
      "source": [
        "type_to_ignore = \"something\"  # type: ignore\n"
      ],
      "metadata": {
        "id": "HpGqhRsBqBVl"
      },
      "id": "HpGqhRsBqBVl",
      "execution_count": null,
      "outputs": []
    },
    {
      "cell_type": "markdown",
      "source": [
        "<P>Let's take a look at some example : </p>\n"
      ],
      "metadata": {
        "id": "jTEDcUnTHAjG"
      },
      "id": "jTEDcUnTHAjG"
    },
    {
      "cell_type": "code",
      "source": [
        "from typing import Iterable\n",
        "\n",
        "def broadcast_notification(message: str, relevant_user_emails: Iterable[str]):\n",
        "    for email in relevant_user_emails:\n",
        "        print(f\"Sending {message} to {email}\")\n",
        "\n",
        "# Incorrect usage\n",
        "broadcast_notification(\"welcome\", \"user1@domain.com\")\n"
      ],
      "metadata": {
        "id": "cCl-QWxMvF9n"
      },
      "id": "cCl-QWxMvF9n",
      "execution_count": null,
      "outputs": []
    },
    {
      "cell_type": "markdown",
      "source": [
        "<p>Here as you may have noticed , the parameter \"relevant_user_message\" can have a list or iterable entity as input . So what if a string given to this function as a input ? it definitely gets some problem because it thinks that each letter of that string is a list meember or generally a member of iterable object . <br> But there's no worry . Mypy is here to help us . </p>"
      ],
      "metadata": {
        "id": "vHsOv5HF0Pkz"
      },
      "id": "vHsOv5HF0Pkz"
    },
    {
      "cell_type": "code",
      "source": [
        "$ mypy your_file.py\n",
        "error: Argument 2 to \"broadcast_notification\" has incompatible type \"str\"; expected \"Iterable[str]\"\n",
        "\n",
        "#This code is not runnable here . It's just showing the result of code ."
      ],
      "metadata": {
        "id": "I5wkAOwfvket"
      },
      "id": "I5wkAOwfvket",
      "execution_count": null,
      "outputs": []
    },
    {
      "cell_type": "markdown",
      "source": [
        "<p>Now if we run the Mypy it will catch the mistake :</p><br>\n",
        "<hr>"
      ],
      "metadata": {
        "id": "xc4iK5YovMoP"
      },
      "id": "xc4iK5YovMoP"
    },
    {
      "cell_type": "markdown",
      "source": [
        "<h4>pytype</h4>\n",
        "<p>Pytype is another tool for checking the in python . It checks for potential runtimee errors and finally report them to you .\n",
        "<br>Now let's check as before for the <i>Pytype</i> too.\n",
        "</p>"
      ],
      "metadata": {
        "id": "0yn30_x2yq-2"
      },
      "id": "0yn30_x2yq-2"
    },
    {
      "cell_type": "code",
      "source": [
        "# Run pytype\n",
        "$ pytype your_file.py\n",
        "File \"...\", line 22, in <module>: Function broadcast_notification was called with the wrong arguments [wrong-arg-types]\n",
        "Expected: (message, relevant_user_emails: Union[List[str], Tuple[str]])\n",
        "Actually passed: (message, relevant_user_emails: str)\n"
      ],
      "metadata": {
        "id": "oEFJq1Zrzf87"
      },
      "id": "oEFJq1Zrzf87",
      "execution_count": null,
      "outputs": []
    },
    {
      "cell_type": "markdown",
      "source": [
        "<hr><h3>Generic Validation </h3>\n",
        "<h5>Overall Perspective :</h5>\n",
        "<p>To maintain high quality code ,it's crucial to use tools that automatically check the structure of your code . The tools we are going to discuss about are a good companion that ensure compliance with eastablished coding standards and can catch potential issues early in the development process .</p><br>\n",
        "<h5>PEP-8 Compliance tools </h5>\n",
        "<p>There are several tools available for checking code against PEP-8 standards:\n",
        "<li>Pycodestyle :This tool checks the py codes for PEP-8 compliance,flagging any violations . </li>\n",
        "<li>Flake8 :An extended tool that plus checking for PEP-8 compliannce it also checks for common errors and enforces some code quality standards .</li>\n",
        "\n"
      ],
      "metadata": {
        "id": "nKf9wRiXGODy"
      },
      "id": "nKf9wRiXGODy"
    },
    {
      "cell_type": "markdown",
      "source": [
        "<h5>Elevating Your Code: Advanced Tools Beyond PEP-8</h5>\n",
        "<p>While PEP-8 primarily focouses on code style, it doesn't make our code perfect and may some problems still remain .Thus for more comperhensive checks, the tools like \"<i>PYLINT</i>\" are priceless .<b>Pylint</b> is a magnificent tool that goes beyond pep-8 limits and checks for issues like missing docstrings ,parameter lists,and other potential code issues .  </p>\n",
        "<br>\n",
        "<h5>configuration </h5>\n",
        "<li>Customization : Through a \".pylintrc\" file , we can customize our pylint . You can enable or disable specefic rules to suit your project .For example if you don't like to enforce docstrings for every function , you can disable it with this file . </li>\n",
        "<div>example: disable=missing-function-docstring </div><br>\n",
        "<li>Consistancy across projcet : Once you've configured Pylint, you can shere this configuration across the system youu are working with so the whole system have the same rule to be judged . This way the standards across the sytem are the same. </li>\n",
        "<br>\n",
        "<p>Also there's another tool I want to introduce you with . It's called <a href=\"https://github.com/coala/coala\">coala</a> . Both coala and Pylint follow the same way but with one difference at least and that is supporting multi langauge which is used in Coala . All in all if you want to have a better code having pylint or Coala is neccesary . </p><hr>\n",
        "\n"
      ],
      "metadata": {
        "id": "B07DY2DlklUx"
      },
      "id": "B07DY2DlklUx"
    },
    {
      "cell_type": "markdown",
      "source": [
        "<h4>Automatic formatting</h4>\n",
        "<p>Agreeing on a consistent code-writing convention within a team is necessary to avoid unnecessary debates over style during code reviews and to focus on the code's substance. However, just agreeing on conventions isn't enough; these rules need to be enforced to ensure they are followed consistently over time.</p>\n",
        "<br><h4>Code formatting tools </h4>\n",
        "<p>Tools that automatically format Python code are priceless for providing consistent code style.While tools like flake8 can validate adherence to PEP-8 standards, some tools go further by automatically reformatting code.Among them, The Black is shinning due to it's unique approach .\n",
        "<li><h5>Black</h5></li>\n",
        "<ul><li>Defeniton : This tool formats code in a deterministic way. It follows strict rules without allowing much flexibility in configuration. For example, it always uses double quotes for strings and follows a consistent parameter order. This strictness ensures minimal differences in code formatting, helping to reduce noise in pull requests and focus on actual code changes. </li></ul>\n",
        "<UL><li>Usage : Take a look at this example : <br>Before :</li></ul>\n",
        "</p>"
      ],
      "metadata": {
        "id": "nOfbEskdseha"
      },
      "id": "nOfbEskdseha"
    },
    {
      "cell_type": "code",
      "source": [
        "def my_function(name):\n",
        "    \"\"\"\n",
        "    >>> my_function('black')\n",
        "    'received Black'\n",
        "    \"\"\"\n",
        "    return 'received {0}'.format(name.title())\n"
      ],
      "metadata": {
        "id": "pY8pSPpwhLtG"
      },
      "id": "pY8pSPpwhLtG",
      "execution_count": null,
      "outputs": []
    },
    {
      "cell_type": "markdown",
      "source": [
        "<p>And after running the black :</p>"
      ],
      "metadata": {
        "id": "Bw7ySRIYhuX1"
      },
      "id": "Bw7ySRIYhuX1"
    },
    {
      "cell_type": "code",
      "source": [
        "def my_function(name):\n",
        "    \"\"\"\n",
        "    >>> my_function('black')\n",
        "    'received Black'\n",
        "    \"\"\"\n",
        "    return \"received {0}\".format(name.title())\n"
      ],
      "metadata": {
        "id": "x09JCX22ht8H"
      },
      "id": "x09JCX22ht8H",
      "execution_count": null,
      "outputs": []
    },
    {
      "cell_type": "markdown",
      "source": [
        "<p>This shows how Black enforces consistant string quoting and formatting . </p>"
      ],
      "metadata": {
        "id": "Pu39dYLoh4Dt"
      },
      "id": "Pu39dYLoh4Dt"
    },
    {
      "cell_type": "markdown",
      "source": [
        "<ul><li>Adopting Black in Legacy Projects: Applying black to an existing codebase can be challenging, especially if the project already has a different style. There are two main approaches to adopt black:</ul></li>\n",
        "<ol><li>Milestone Pull Request: Apply black to the entire codebase in one go, which may clutter the version history.</li>\n",
        "\n",
        "<li>Rewriting Git History: Apply black retroactively to all past commits, but this requires all team members to update their local repositories.\n",
        "</li>\n",
        "</ol>\n"
      ],
      "metadata": {
        "id": "I2G8RCCwiP_2"
      },
      "id": "I2G8RCCwiP_2"
    },
    {
      "cell_type": "markdown",
      "source": [
        "<li>Yapf : Unlike Black, Yapf is highly customizable and supports partial formatting, making it more suitable for legacy projects where full reformatting isn't feasible. You can specify the range of lines to format, allowing you to incrementally align your code to the new standards."
      ],
      "metadata": {
        "id": "uMkKybUNjye7"
      },
      "id": "uMkKybUNjye7"
    },
    {
      "cell_type": "markdown",
      "source": [
        "<hr><h4>Setup for automatic checks</h4>\n",
        "<p>\n",
        "In Unix-based development environments, Makefiles are commonly used to automate tasks like compiling, running tests, and managing code formatting. A Makefile is a powerful tool that allows you to configure commands to be executed within a project which enforcing consistency across the development team.\n",
        "</p>\n",
        "<h5>Example Makefile Setup :</h5>\n"
      ],
      "metadata": {
        "id": "aOXGeWz1kGcM"
      },
      "id": "aOXGeWz1kGcM"
    },
    {
      "cell_type": "code",
      "source": [
        ".PHONY: typehint\n",
        "typehint:\n",
        "    mypy --ignore-missing-imports src/\n",
        "\n",
        ".PHONY: test\n",
        "test:\n",
        "    pytest tests/\n",
        "\n",
        ".PHONY: lint\n",
        "lint:\n",
        "    pylint src/\n",
        "\n",
        ".PHONY: checklist\n",
        "checklist: lint typehint test\n",
        "\n",
        ".PHONY: black\n",
        "black:\n",
        "    black -l 79 *.py\n",
        "\n",
        ".PHONY: clean\n",
        "clean:\n",
        "    find . -type f -name \"*.pyc\" | xargs rm -fr\n",
        "    find . -type d -name __pycache__ | xargs rm -fr\n"
      ],
      "metadata": {
        "id": "CjeZROTFt6IM"
      },
      "id": "CjeZROTFt6IM",
      "execution_count": null,
      "outputs": []
    },
    {
      "cell_type": "markdown",
      "source": [
        "<h5>Code in details :</h5>\n",
        "<li>Break down of commands :<ul>\n",
        "<ul><li>Typehint: Runs mypy to check for type consistency.</li>\n",
        "<li>Test: Executes pytest to run the tests.\n",
        "</li>\n",
        "<li>Lint: Runs pylint to check code against PEP-8 and other quality guidelines.\n",
        "</li>\n",
        "<li>Checklist: Aggregates the previous tasks (lint, typehint, and test) into a single command.\n",
        "</li>\n",
        "<li>Black: Formats the code using black.\n",
        "</li>\n",
        "<li>Clean: Cleans up Python bytecode files and cache directories.\n",
        "</li>\n",
        "</ul>\n",
        "<li>How to run :</li>\n",
        "<ul><ol><li>Open a Terminal then navigate to the directory containing the Makefile . </li>\n",
        "<li>Run a Make Target : To run a specific target, use the make command followed by the target .\n",
        "<br>in this case we use something like this : make clean\n",
        "<li>View the Output\n",
        "</ol></ul>\n",
        "<br>\n",
        "<p>Running <i>Checklist</i> :</p>\n",
        "<p>The make checklist command runs a series of checks:\n",
        "<ul><li>Linting: Ensures code complies with the specified coding standards (e.g., PEP-8).</li>\n",
        "<li>Type Checking: Verifies type annotations.</li>\n",
        "\n",
        "<li>Testing: Runs the suite of tests to validate functionality.\n",
        "</li></ul>\n",
        "If any of these steps fail, the process is considered a failure . </p><br>\n",
        "<p>Here you can see the result example :"
      ],
      "metadata": {
        "id": "wrPV9BDqt87c"
      },
      "id": "wrPV9BDqt87c"
    },
    {
      "cell_type": "code",
      "source": [
        "'''\n",
        "pylint src/\n",
        "************* Module main\n",
        "src/main.py:1:0: C0114: Missing module docstring (missing-module-docstring)\n",
        "...\n",
        "Your code has been rated at 8.50/10 (previous run: 8.50/10, +0.00)\n",
        "\n",
        "mypy --ignore-missing-imports src/\n",
        "Success: no issues found in 1 source file\n",
        "\n",
        "pytest tests/\n",
        "============================= test session starts ==============================\n",
        "...\n",
        "collected 1 item\n",
        "\n",
        "tests/test_main.py .                                                  [100%]\n",
        "\n",
        "============================== 1 passed in 0.03s ===============================\n",
        "'''"
      ],
      "metadata": {
        "id": "0xA_sMmot8UA"
      },
      "id": "0xA_sMmot8UA",
      "execution_count": null,
      "outputs": []
    },
    {
      "cell_type": "markdown",
      "source": [
        "<br><br><br>\n",
        "<hr><hr><h2>Chapter 2 : Pythonic Code </h2>\n",
        "<h4>Intro :</h4>\n",
        "<p>In this chapter, Our focus is on understanding and implementing Pythonic code and writing code in a way that is idiomatic to Python.</p><br>\n",
        "<h5>The goals for this chapter : </h5>\n",
        "<li>To understand indices and slices, and correctly implement objects that can be indexed</li>\n",
        "\n",
        "<li>To implement sequences and other iterables</li>\n",
        "<li>To learn about good use cases for context managers, and how to write effective ones.</li>\n",
        "<li>To implement more idiomatic code through magic methods </li>\n",
        "<li>To avoid common mistakes in Python that lead to undesired side effects</li>\n",
        "<br>\n",
        "\n",
        "<h5>pythonic code </h5>\n",
        "<p>In programming, an idiom is a particular way of writing code in order to performa specific task. It is something common that repeats and follows the same structure every time.Every language will have its\n",
        "idioms, which means the way things are done in that particular language .When the code follows these idioms, it is known as being idiomatic, which in Python is often referred to as <b>Pythonic</b>.\n",
        "<br></p>\n",
        "<br>\n",
        "<hr><h3>Indexes and slices</h3>\n",
        "<p>In Python, working with indexes and slices provides flexibility and simplicity when accessing elements in sequences like lists, tuples, and strings. Here's an example so you know better what we are talking about :\n"
      ],
      "metadata": {
        "id": "hlEctMx8_Pon"
      },
      "id": "hlEctMx8_Pon"
    },
    {
      "cell_type": "code",
      "source": [
        "my_numbers = (4, 5, 3, 9)\n",
        "print(my_numbers[1])\n",
        "print(my_numbers[3])"
      ],
      "metadata": {
        "collapsed": true,
        "id": "aq5114OB_wfU"
      },
      "id": "aq5114OB_wfU",
      "execution_count": null,
      "outputs": []
    },
    {
      "cell_type": "markdown",
      "source": [
        "Some points about <b>indexes</b> to be considered :\n",
        "<li>Python allows you to access elements by their index, starting from 0 for the first element.</li>\n",
        "<li>Unlike some other languages, Python also supports <b>negative</b> indexing, where -1 refers to the last element, -2 to the second last, and so on.</li>\n",
        "<li>Notice that when one of the elements mentioned above earlier (start,stop,step) is missing , it is considered as None value .\n",
        "Let's have a look on this example :\n",
        "\n"
      ],
      "metadata": {
        "id": "wG_Zku4aAJIU"
      },
      "id": "wG_Zku4aAJIU"
    },
    {
      "cell_type": "code",
      "source": [
        "my_numbers = (4, 5, 3, 9)\n",
        "print(my_numbers[-1])  # Output: 9\n",
        "print(my_numbers[-3])  # Output: 5"
      ],
      "metadata": {
        "id": "NgsrlsotAjU7"
      },
      "id": "NgsrlsotAjU7",
      "execution_count": null,
      "outputs": []
    },
    {
      "cell_type": "markdown",
      "source": [
        "<br>\n",
        "<h4>Slices : </h4>\n",
        "<p>Slices allow you to access a range of elements from a sequence. The syntax for slicing is <b>sequence[start:stop:step]</b> , which returns elements from the start index up to, but not including, the stop index."
      ],
      "metadata": {
        "id": "4AaWCGGQBKky"
      },
      "id": "4AaWCGGQBKky"
    },
    {
      "cell_type": "code",
      "source": [
        "my_numbers = (1, 1, 2, 3, 5, 8, 13, 21)\n",
        "print(my_numbers[2:5])  # Output: (2, 3, 5)\n",
        "print(my_numbers[1:7:2])  # Output: (1, 3, 8)"
      ],
      "metadata": {
        "id": "qXOc0Nw7Bz4q"
      },
      "id": "qXOc0Nw7Bz4q",
      "execution_count": null,
      "outputs": []
    },
    {
      "cell_type": "markdown",
      "source": [
        "<h5>Slice as object :</h5>\n",
        "<p>Python's <b>slice()</b><i> function</i> allows you to create slice objects that can be reused later in the other parts of your code .\n",
        "<br>Have a look on this instance :</p>"
      ],
      "metadata": {
        "id": "EUtletUJCBhS"
      },
      "id": "EUtletUJCBhS"
    },
    {
      "cell_type": "code",
      "source": [
        "interval = slice(1, 7, 2)\n",
        "print(my_numbers[interval])  # Output: (1, 3, 8)"
      ],
      "metadata": {
        "id": "kHlVZbdBCdR5"
      },
      "id": "kHlVZbdBCdR5",
      "execution_count": null,
      "outputs": []
    },
    {
      "cell_type": "markdown",
      "source": [
        "<p>This approach to indexing and slicing makes Python code more intuitive and flexible, supporting the creation of clean, readable, and efficient code."
      ],
      "metadata": {
        "id": "1NgIoAleCkw7"
      },
      "id": "1NgIoAleCkw7"
    },
    {
      "cell_type": "markdown",
      "source": [
        "<hr><h4>Creating your own Sequence </h4>\n",
        "<p>\n",
        "In Python, the behavior of accessing elements by index is handled by a special method known as __getitem__. This magic method is invoked whenever you access an item using the square bracket syntax, such as myobject[key]. Sequences, which include lists, tuples, and strings, are objects that implement both __getitem__ and __len__, making them iterable.\n",
        "</p>\n",
        "<br><li><h5>implementation of <b>__getitem__</b> in custom classes :</h5>\n",
        "<p>Implementing <i>__getitem__</i> in a project which you want to creat your own sequence-like object , is a need . First let us checking some words and expressions together before diving into some essential considerations that ensures you , your implementation is pythonic .\n",
        "<h5>Essential words & phrases :</h5>\n",
        "<ul>\n",
        "<li>1. Wrapping : When we say a custom class \"wraps\" another object, it means that the custom class contains and controls access to that other object. Think of it like wrapping a gift:\n",
        "<ul><li>The gift is the standard object you want to use (like a list, a file, or any other object in Python).</ul></li>\n",
        "<ul><li>The wrapper (like the wrapping paper) is your custom class. It surrounds the gift, making it look different, easier to handle, or adding some extra features(Control Access,Add Features,Change Behavior), but the gift is still inside.</ul></li>\n",
        "\n"
      ],
      "metadata": {
        "id": "LiWrysfZSCxi"
      },
      "id": "LiWrysfZSCxi"
    },
    {
      "cell_type": "code",
      "source": [
        "class ListWrapper:\n",
        "    def __init__(self):\n",
        "        self._list = []  # This is the \"gift\" inside our wrapper\n",
        "\n",
        "    def add(self, item):\n",
        "        self._list.append(item)\n",
        "        print(f\"Added {item} to the list.\")  # We add our own feature: printing a message\n",
        "\n",
        "    def get_list(self):\n",
        "        return self._list\n"
      ],
      "metadata": {
        "id": "3PkJokFVxr3_"
      },
      "id": "3PkJokFVxr3_",
      "execution_count": null,
      "outputs": []
    },
    {
      "cell_type": "code",
      "source": [
        "wrapped_list = ListWrapper()\n",
        "wrapped_list.add(10)\n",
        "wrapped_list.add(20)\n",
        "print(wrapped_list.get_list())\n"
      ],
      "metadata": {
        "id": "pR2h2ID5yMY3"
      },
      "id": "pR2h2ID5yMY3",
      "execution_count": null,
      "outputs": []
    },
    {
      "cell_type": "markdown",
      "source": [
        "<ul><li>\n",
        "2. Delegate Behavior : Act of forwarding method calls or operations from one object to another object that actually performs the action. Essentially, instead of implementing the behavior from scratch in the wrapper class, you delegate the work to the underlying object.\n",
        "</ul></li>\n",
        "<br>\n",
        "Here in this example you can see delegation :"
      ],
      "metadata": {
        "id": "CRftCLAYyf6n"
      },
      "id": "CRftCLAYyf6n"
    },
    {
      "cell_type": "code",
      "source": [
        "class ListWrapper:\n",
        "    def __init__(self):\n",
        "        self._list = []  # This is the underlying object\n",
        "\n",
        "    def add(self, item):\n",
        "        self._list.append(item)  # Delegates adding item to the underlying list\n",
        "\n",
        "    def remove(self, item):\n",
        "        self._list.remove(item)  # Delegates removal to the underlying list\n",
        "\n",
        "    def __getitem__(self, index):\n",
        "        return self._list[index]  # Delegates item retrieval to the underlying list\n",
        "\n",
        "    def __setitem__(self, index, value):\n",
        "        self._list[index] = value  # Delegates item setting to the underlying list\n",
        "\n",
        "    def __len__(self):\n",
        "        return len(self._list)  # Delegates length retrieval to the underlying list\n",
        "\n",
        "    def __str__(self):\n",
        "        return str(self._list)  # Delegates string representation to the underlying list\n"
      ],
      "metadata": {
        "id": "rzxWZgLdzutB"
      },
      "id": "rzxWZgLdzutB",
      "execution_count": null,
      "outputs": []
    },
    {
      "cell_type": "markdown",
      "source": [
        "<h5>Delegation usage in above example  :</h5>\n",
        "<li><i>add(item)</i> Method: This method forwards the call to self._list.append(item). The ListWrapper class doesn't implement its own append logic but relies on the list's append method.</p>\n",
        "</li>\n",
        "<br>\n",
        "<li><i>remove(item)</i> Method: This method forwards the call to self._list.remove(item), relying on the list's remove method to handle the actual removal.\n",
        "</li>\n",
        "<br>\n",
        "<li><i>Special</i> Methods: Methods like <i>__getitem__</i> , <i>__setitem__</i> , <i>__len__</i> , and <i>__str__</i> are special methods that the wrapper class delegates to the underlying list to handle indexing, setting items, length calculation, and string conversion, respectively.\n",
        "</li>"
      ],
      "metadata": {
        "id": "etlcq71Iz889"
      },
      "id": "etlcq71Iz889"
    },
    {
      "cell_type": "markdown",
      "source": [
        "<P>Now let's check what key consideraion is needed for our code to be more pythonic :</p>\n",
        "<ol>\n",
        "<li>Delegation to Underlying Objects : This action ensures compatibility with other Python code and maintains consistency in behavior.Also it's a good idea to delegate behavior to the underlying object specially if your custom class is a wrapper around a standard Python object.Check this example :\n",
        "</li></ol>"
      ],
      "metadata": {
        "id": "OMtWxKwK16gF"
      },
      "id": "OMtWxKwK16gF"
    },
    {
      "cell_type": "code",
      "source": [
        "from collections.abc import Sequence\n",
        "\n",
        "class Items(Sequence):\n",
        "    def __init__(self, *values):\n",
        "        self._values = list(values)\n",
        "\n",
        "    def __len__(self):\n",
        "        return len(self._values)\n",
        "\n",
        "    def __getitem__(self, item):\n",
        "        return self._values.__getitem__(item)\n"
      ],
      "metadata": {
        "id": "tXT4-Soq2760"
      },
      "id": "tXT4-Soq2760",
      "execution_count": null,
      "outputs": []
    },
    {
      "cell_type": "markdown",
      "source": [
        "<ul><p>In this example, the Items class implements the Sequence interface from the collections.abc module, ensuring it behaves like a standard sequence. The methods __len__ and __getitem__ are delegated to the underlying list, making the Items class a simple wrapper around a list.</p>\n",
        "\n",
        "<p>2. Using the collections.abc Module : For classes intended to behave like standard types (e.g., sequences or mappings), it's good practice to implement interfaces from the collections.abc module. This not only makes the purpose of your class clear but also ensures you implement the necessary methods.\n",
        "\n",
        "<br><br>3. Implementing Non-Wrapper Sequences : <br>If your sequence isn't a wrapper around a built-in object, follow these instructions :\n",
        "\n",
        "<br><ul><li><b>Return the Same Type</b> :<br> When indexing by a range, the result should be an instance of the same type\n",
        "of the class . Theis also know as subtle error . Think about it—when you get a slice of a list , the\n",
        "result is a list ; when you ask for a range in a tuple , the result is a tuple ; and when you ask for a substring , the result is a string.\n",
        "The best example of this is in the standard library, with the range function.\n",
        "\n",
        "\n"
      ],
      "metadata": {
        "id": "XVpn9jGF29pl"
      },
      "id": "XVpn9jGF29pl"
    },
    {
      "cell_type": "code",
      "source": [
        "r = range(1, 100)\n",
        "print(r[25:50])  # Output: range(26, 51)"
      ],
      "metadata": {
        "colab": {
          "base_uri": "https://localhost:8080/"
        },
        "id": "khiVAJfNANb_",
        "outputId": "35ce0d1f-7552-4702-cdb4-898972a2ff37"
      },
      "id": "khiVAJfNANb_",
      "execution_count": null,
      "outputs": [
        {
          "output_type": "stream",
          "name": "stdout",
          "text": [
            "range(26, 51)\n"
          ]
        }
      ]
    },
    {
      "cell_type": "markdown",
      "source": [
        "\n",
        "<ul><ul><br><li><b>Follow Python's Slicing Semantics </b>: In the range provided by slice, respect the semantics that Python uses,\n",
        "excluding the element at the end"
      ],
      "metadata": {
        "id": "IFdrc-4YAOp2"
      },
      "id": "IFdrc-4YAOp2"
    },
    {
      "cell_type": "markdown",
      "source": [
        "<p>In the next section, we'll take the same approach but for context managers. First , we'll see how context managers from the standard library work, and then we'll go to the next level and create our own .\n",
        "</p>"
      ],
      "metadata": {
        "id": "xY_MUonvBFcd"
      },
      "id": "xY_MUonvBFcd"
    },
    {
      "cell_type": "markdown",
      "source": [
        "<hr><h3>Context managers :<h3>\n",
        "<p><b>Defenition : </b><br>Context managers are a powerful and Pythonic way to manage resources and execute code with preconditions and postconditions. They ensure that necessary setup and cleanup actions are performed, even in the presence of exceptions. This makes them priceless for tasks like file handling, database connections, and other resource management scenarios.\n",
        "</p>\n",
        "<br><p><b>Usage</b> :\n",
        "<br>Context managers are used when you need to set up a context (preconditions), perform some actions, and then clean up afterward (postconditions). This pattern is common in resource management. For instance, when you open a file or a database connection, you must ensure it is properly closed after you are done, even if an error occurs during processing.\n",
        "</p>\n",
        "<br>\n",
        "<p>Consider the case where you need to open and process a file:</p>"
      ],
      "metadata": {
        "id": "z_iNUcmTBVCb"
      },
      "id": "z_iNUcmTBVCb"
    },
    {
      "cell_type": "code",
      "source": [
        "fd = open(filename)\n",
        "try:\n",
        "    process_file(fd)\n",
        "finally:\n",
        "    fd.close()"
      ],
      "metadata": {
        "id": "8bXX_M64RRKe"
      },
      "id": "8bXX_M64RRKe",
      "execution_count": null,
      "outputs": []
    },
    {
      "cell_type": "markdown",
      "source": [
        "<p>As you may noticed , in the code provided here , we have \"finally\" which make sure that even if an exception raised it still works and closes the file . But It's not made with context managers ."
      ],
      "metadata": {
        "id": "hysaTzo7RmLa"
      },
      "id": "hysaTzo7RmLa"
    },
    {
      "cell_type": "markdown",
      "source": [
        "<p><b>With Using Context manager</b> : </p>\n",
        "<p>Python provides a more elegant way to handle such cases using context managers :</p>"
      ],
      "metadata": {
        "id": "HkjJLV_NST0n"
      },
      "id": "HkjJLV_NST0n"
    },
    {
      "cell_type": "code",
      "source": [
        "with open(filename) as fd:\n",
        "    process_file(fd)"
      ],
      "metadata": {
        "id": "wDwTiwStS1ae"
      },
      "id": "wDwTiwStS1ae",
      "execution_count": null,
      "outputs": []
    },
    {
      "cell_type": "markdown",
      "source": [
        "<p>In this example, the <b>with</b> statement ensures that the file is automatically closed when the block is exited, regardless of whether an exception occurred.\n",
        "</p>"
      ],
      "metadata": {
        "id": "xcmTGUV8S2Uf"
      },
      "id": "xcmTGUV8S2Uf"
    },
    {
      "cell_type": "markdown",
      "source": [
        "<h4>The Context Manager Protocol</h4>\n",
        "<p>To understand how context managers work , it's essential to know about the two special methods : __enter__ and __exit__\n",
        "\n",
        "<li><b>__enter__</b>: This method is called at the start of the with block. Any value it returns can be assigned to a variable after the as keyword .</li>\n",
        "<li><b>__exit__</b>: This method is called when the block is exited, whether due to normal completion or because of an exception. It handles any cleanup that needs to occur.</li>\n",
        "<br>\n",
        "<p>When the with statement is executed, the context manager's <b>__enter__()</b>  method is called before the block of code is executed. The value returned by \"__enter__()\" is assigned to the variable after the as keyword. Once the block of code inside the with statement is complete, the context manager's \"<b>__exit__()</b> \" method is called to clean up any resources.</p>\n",
        "<br>"
      ],
      "metadata": {
        "id": "e75X6_DRTL2V"
      },
      "id": "e75X6_DRTL2V"
    },
    {
      "cell_type": "markdown",
      "source": [
        "<h4>3. Creating Custom Context Managers</h4>\n",
        "<p>context managers are often used in resource management, but you can also create custom context managers for other tasks. For example, consider a situation where you need to stop a database service, perform a backup, and then restart the service, regardless of whether the backup was successful.</p>"
      ],
      "metadata": {
        "id": "ZFUlT2BbiG10"
      },
      "id": "ZFUlT2BbiG10"
    },
    {
      "cell_type": "code",
      "source": [
        "def stop_database():\n",
        "    run(\"systemctl stop postgresql.service\")\n",
        "\n",
        "def start_database():\n",
        "    run(\"systemctl start postgresql.service\")\n",
        "\n",
        "class DBHandler:\n",
        "    def __enter__(self):\n",
        "        stop_database()\n",
        "        return self\n",
        "\n",
        "    def __exit__(self, exc_type, ex_value, ex_traceback):\n",
        "        start_database()\n",
        "\n",
        "def db_backup():\n",
        "    run(\"pg_dump database\")\n",
        "\n",
        "def main():\n",
        "    with DBHandler():\n",
        "        db_backup()"
      ],
      "metadata": {
        "id": "ENhlt7qgmmax"
      },
      "id": "ENhlt7qgmmax",
      "execution_count": null,
      "outputs": []
    },
    {
      "cell_type": "markdown",
      "source": [
        "<li>The <i>__enter__</i> method stops the database.</li>\n",
        "<li>The <i>__exit__</i> method restarts the database, ensuring the service is always restarted even if an error occurs during the backup.</li>\n"
      ],
      "metadata": {
        "id": "_gmRtgHqmnyX"
      },
      "id": "_gmRtgHqmnyX"
    },
    {
      "cell_type": "markdown",
      "source": [
        "<h4> Exceptions handeling in Context Managers </h4>\n",
        "<p>As previously mentioned , The __exit__ method of a context manager receives information about any exceptions that occur within the block . This allows for custom exception handling if necessary .</p>"
      ],
      "metadata": {
        "id": "FelFiUcDnDDe"
      },
      "id": "FelFiUcDnDDe"
    },
    {
      "cell_type": "code",
      "source": [
        "def __exit__(self, exc_type, ex_value, ex_traceback):\n",
        "    start_database()\n",
        "    if exc_type is not None:\n",
        "        # Handle the exception or log it\n",
        "        return False  # Propagate the exception\n",
        "    return True  # Swallow the exception\n"
      ],
      "metadata": {
        "id": "FlP4Riffhjab"
      },
      "id": "FlP4Riffhjab",
      "execution_count": null,
      "outputs": []
    },
    {
      "cell_type": "markdown",
      "source": [
        "<p>By default, exceptions are propagated. Returning True from __exit__ prevents the exception from propagating, which can be useful in specific scenarios but should be used with caution to To avoid masking errors unintentionally.</P>"
      ],
      "metadata": {
        "id": "jYYfkfmxivzr"
      },
      "id": "jYYfkfmxivzr"
    },
    {
      "cell_type": "markdown",
      "source": [
        "<br><h4>Implementing context managers</h4>\n",
        "<p>As previosly told , we have a way to implement the context managers and that's implementing them using __enter__ and __exit__ methods . But we have some other ways too to implement this magic tool . <br>let's check them together :\n",
        "<ol><li>Using <b>contextlib.contextmanager</b> for a More Compact Implementation : </li>\n",
        "\n",
        "<ul><li>Python's contextlib module Presents a more concise approach to create context managers using the @contextlib.contextmanager decorator .This approach involves defining a generator function instead of a full class."
      ],
      "metadata": {
        "id": "UZduc_oo4iQi"
      },
      "id": "UZduc_oo4iQi"
    },
    {
      "cell_type": "code",
      "source": [
        "import contextlib\n",
        "\n",
        "@contextlib.contextmanager\n",
        "def db_handler():\n",
        "    try:\n",
        "        stop_database()\n",
        "        yield\n",
        "    finally:\n",
        "        start_database()\n"
      ],
      "metadata": {
        "id": "LYDEA-1cr0Dt"
      },
      "id": "LYDEA-1cr0Dt",
      "execution_count": null,
      "outputs": []
    },
    {
      "cell_type": "markdown",
      "source": [
        "<p>In this example, the code before the yield statement acts like the \"__enter__\" method, and the code after yield works as the \"__exit__\" method . The yield statement temporarily hands control back to the code block under the with statement, pausing the generator function until that block completes .\n",
        "<br><br><b>Usage :</b></p>"
      ],
      "metadata": {
        "id": "cdS3cK4etiNV"
      },
      "id": "cdS3cK4etiNV"
    },
    {
      "cell_type": "code",
      "source": [
        "with db_handler():\n",
        "    db_backup()"
      ],
      "metadata": {
        "id": "uNNGSHhTuF-E"
      },
      "id": "uNNGSHhTuF-E",
      "execution_count": null,
      "outputs": []
    },
    {
      "cell_type": "markdown",
      "source": [
        "<p>Some words you may not familiar with :\n",
        "<li>Generator :A generator is a special type of function in programming that allows you to iterate over a sequence of values lazily, meaning it generates values on the fly as they are needed, rather than computing them all at once and storing them in memory.\n",
        "<br>\n",
        "</li>\n",
        "<br><li>Decorator :\n",
        "<br>A decorator is a design pattern that allows you to modify or extend the behavior of functions or methods without changing their actual code. It's a way to add new functionality to an existing piece of code in a clean and reusable manner.For example they take a function as an argument and return a new function that enhances or modifies the original function's behavior.\n",
        "</li></p>"
      ],
      "metadata": {
        "id": "dpRWpNrOr0bM"
      },
      "id": "dpRWpNrOr0bM"
    },
    {
      "cell_type": "markdown",
      "source": [
        "<h3>Advanced Context Managers with ContextDecorator</h3>\n",
        "<p>For situations where you want to apply the same context management logic across multiple functions , the <b>ContextDecorator</b> class from the <i>contextlib</i> module can be very useful. This allows you to create a context manager that can be used as both a decorator and a with statement.</p>"
      ],
      "metadata": {
        "id": "1_r5reLaw8Ti"
      },
      "id": "1_r5reLaw8Ti"
    },
    {
      "cell_type": "code",
      "source": [
        "import contextlib\n",
        "\n",
        "class DBHandlerDecorator(contextlib.ContextDecorator):\n",
        "    def __enter__(self):\n",
        "        stop_database()\n",
        "        return self\n",
        "\n",
        "    def __exit__(self, exc_type, exc_value, traceback):\n",
        "        start_database()\n",
        "\n",
        "@DBHandlerDecorator()\n",
        "def offline_backup():\n",
        "    run(\"pg_dump database\")\n"
      ],
      "metadata": {
        "id": "Rebz5kttzwzI"
      },
      "id": "Rebz5kttzwzI",
      "execution_count": null,
      "outputs": []
    },
    {
      "cell_type": "markdown",
      "source": [
        "<p>Here, the <i>offline_backup</i> function will automatically run within the context manager , meaning the database will be stopped before the backup begins and started again afterward. This approach avoids the need for a with statement inside each function , promoting cleaner and more readable code . </p>\n",
        "<h5>Handling Exceptions with <i> contextlib.suppress</i></h5>\n",
        "<p>Another powerful feature of the contextlib module is the suppress function , which allows you to ignore specific exceptions in a controlled manner. This can be especially useful in situations where you know an exception might occur but it’s safe to ignore it .</p>\n",
        "<div>Example : </div>"
      ],
      "metadata": {
        "id": "8nMSo2EZtMC2"
      },
      "id": "8nMSo2EZtMC2"
    },
    {
      "cell_type": "code",
      "source": [
        "import contextlib\n",
        "\n",
        "with contextlib.suppress(DataConversionException):\n",
        "    parse_data(input_json_or_dict)\n"
      ],
      "metadata": {
        "id": "TjUC_d7MDaeg"
      },
      "id": "TjUC_d7MDaeg",
      "execution_count": null,
      "outputs": []
    },
    {
      "cell_type": "markdown",
      "source": [
        "<p>In this example, if \"parse_data\" raises a DataConversionException, the exception will be ignored, and the program will continue executing. This makes it clear that the exception is part of the expected logic and does not need to be handled explicitly.</p>"
      ],
      "metadata": {
        "id": "a3YajmoWDbnn"
      },
      "id": "a3YajmoWDbnn"
    },
    {
      "cell_type": "markdown",
      "source": [
        "<br><hr><h3>Comprehension and assignment expressions</h3>\n",
        "<h5>introduction : </h5>\n",
        "<p>Comprehensions in Python provide a concise way to create new data structures like lists, sets, or dictionaries by processing elements from an existing collection . They are preferred for their readability and efficiency, but there are situations where a simple loop might be more appropriate to avoid unnecessary complexity .\n",
        "<br>Consider the following example where a list is created using a for loop :</p>"
      ],
      "metadata": {
        "id": "AgEH3ry9GI8M"
      },
      "id": "AgEH3ry9GI8M"
    },
    {
      "cell_type": "code",
      "source": [
        "numbers = []\n",
        "for i in range(10):\n",
        "    numbers.append(run_calculation(i))"
      ],
      "metadata": {
        "id": "Lg3K0d_4G2Zz"
      },
      "id": "Lg3K0d_4G2Zz",
      "execution_count": null,
      "outputs": []
    },
    {
      "cell_type": "markdown",
      "source": [
        "<br><p>Now lets use list comprehension</p>"
      ],
      "metadata": {
        "id": "lw9FL9boG8RC"
      },
      "id": "lw9FL9boG8RC"
    },
    {
      "cell_type": "code",
      "source": [
        "numbers = [run_calculation(i) for i in range(10)]"
      ],
      "metadata": {
        "id": "vRWOAtOoG7us"
      },
      "id": "vRWOAtOoG7us",
      "execution_count": null,
      "outputs": []
    },
    {
      "cell_type": "markdown",
      "source": [
        "<p>The list comprehension is not only more compact but also generally more efficient, as it avoids multiple <b>method calls</b> of append in this case .</p>\n",
        "<p>Take a deeper look at this tool . Consider below example : </p>"
      ],
      "metadata": {
        "id": "VlZdEC0IHa6S"
      },
      "id": "VlZdEC0IHa6S"
    },
    {
      "cell_type": "code",
      "source": [
        "from typing import Iterable, Set\n",
        "import re\n",
        "\n",
        "def collect_account_ids_from_arns(arns: Iterable[str]) -> Set[str]:\n",
        "    collected_account_ids = set()\n",
        "    for arn in arns:\n",
        "        matched = re.match(ARN_REGEX, arn)\n",
        "        if matched is not None:\n",
        "            account_id = matched.groupdict()[\"account_id\"]\n",
        "            collected_account_ids.add(account_id)\n",
        "    return collected_account_ids"
      ],
      "metadata": {
        "id": "CYpP1LqJH5w9"
      },
      "id": "CYpP1LqJH5w9",
      "execution_count": null,
      "outputs": []
    },
    {
      "cell_type": "markdown",
      "source": [
        "<p>As you see it's quite boring and also confusing . For just a simple task it's used many lines and waste many times . <br>We need <i>better</i> way so we save both <b>time</b> and <b>readability</b> . <br>\n",
        "comperhension is the key !"
      ],
      "metadata": {
        "id": "V_jJlTejH9C6"
      },
      "id": "V_jJlTejH9C6"
    },
    {
      "cell_type": "code",
      "source": [
        "def collect_account_ids_from_arns(arns: Iterable[str]) -> Set[str]:\n",
        "    matched_arns = filter(None, (re.match(ARN_REGEX, arn) for arn in arns))\n",
        "    return {m.groupdict()[\"account_id\"] for m in matched_arns}"
      ],
      "metadata": {
        "id": "ill9FUVfI9QJ"
      },
      "id": "ill9FUVfI9QJ",
      "execution_count": null,
      "outputs": []
    },
    {
      "cell_type": "markdown",
      "source": [
        "<p>Here, the filter function removes any <b>None values</b> , and the set comprehension collects the account IDs in a more concise form . This makes the code more efficient and easier to maintain .</p>"
      ],
      "metadata": {
        "id": "8ASqySMjI_v4"
      },
      "id": "8ASqySMjI_v4"
    },
    {
      "cell_type": "markdown",
      "source": [
        "<h4>Assignment Expressions : </h4>\n",
        "<p>\n",
        "In Python 3.8 , assignment expressions (The \"walrus operator\") were introduced. They allow you to assign a value to a variable as part of an expression , reducing redundancy in cases where you would otherwise need to repeat calculations .\n",
        "</p>\n",
        "<p>We can rewrite last example using this \"assignment expressions\" :"
      ],
      "metadata": {
        "id": "070YUjcOJQp4"
      },
      "id": "070YUjcOJQp4"
    },
    {
      "cell_type": "code",
      "source": [
        "def collect_account_ids_from_arns(arns: Iterable[str]) -> Set[str]:\n",
        "    return {\n",
        "        matched.groupdict()[\"account_id\"]\n",
        "        for arn in arns\n",
        "        if (matched := re.match(ARN_REGEX, arn)) is not None\n",
        "    }\n"
      ],
      "metadata": {
        "id": "gXtxviLcJQBx"
      },
      "id": "gXtxviLcJQBx",
      "execution_count": null,
      "outputs": []
    },
    {
      "cell_type": "markdown",
      "source": [
        "<p>In this example , the assignment \"<i>matched := re.match(ARN_REGEX, arn)</i>\" happens within the comprehension, storing the result of the regular expression match. This allows us to reuse the matched object without needing a separate line to store it, making the code even more concise.</p>"
      ],
      "metadata": {
        "id": "h1PwbZ03KBqA"
      },
      "id": "h1PwbZ03KBqA"
    },
    {
      "cell_type": "markdown",
      "source": [
        "<h5>When to Use Comprehensions vs. Loops </h5>\n",
        "<p>While comprehensions are generally preferred for their compactness and performance , they should not be used at the cost of readability . If the comprehension becomes too complex , it's often better to revert to a <b>regular loop</b> . For example, if a comprehension involves multiple layers of transformations or nested logic , readability can suffer .</p>"
      ],
      "metadata": {
        "id": "gTsYmjX8olMV"
      },
      "id": "gTsYmjX8olMV"
    },
    {
      "cell_type": "code",
      "source": [
        "# Too complex comprehension\n",
        "result = [some_transformation(x) for x in items if condition1 and condition2]"
      ],
      "metadata": {
        "id": "UZDmsx2Lrerj"
      },
      "id": "UZDmsx2Lrerj",
      "execution_count": null,
      "outputs": []
    },
    {
      "cell_type": "markdown",
      "source": [
        "<p>If we use loops we can see how much better it gets . Look at the example rewritten as below : </p>"
      ],
      "metadata": {
        "id": "tnkc8GqVrhHW"
      },
      "id": "tnkc8GqVrhHW"
    },
    {
      "cell_type": "code",
      "source": [
        "result = []\n",
        "for x in items:\n",
        "    if condition1 and condition2:\n",
        "        result.append(some_transformation(x))\n"
      ],
      "metadata": {
        "id": "jR-IX3Elr0GS"
      },
      "id": "jR-IX3Elr0GS",
      "execution_count": null,
      "outputs": []
    },
    {
      "cell_type": "markdown",
      "source": [
        "<h4>Some key Performance Considerations </h4>\n",
        "<p>Comprehensions and assignment expressions not only improve readability but can also enhance performance . For instance , in cases where you repeatedly call a function within a loop , assignment expressions allow you to call the function once and store the result , reducing redundant computations .<br>\n",
        "For example this can prevent recalculating the same result multiple times :</p>"
      ],
      "metadata": {
        "id": "69DYFPEnr9lj"
      },
      "id": "69DYFPEnr9lj"
    },
    {
      "cell_type": "code",
      "source": [
        "# Without assignment expression\n",
        "if expensive_function(x) > threshold:\n",
        "    do_something_with(expensive_function(x))\n"
      ],
      "metadata": {
        "id": "JIeNJhNbuCOB"
      },
      "id": "JIeNJhNbuCOB",
      "execution_count": null,
      "outputs": []
    },
    {
      "cell_type": "markdown",
      "source": [
        "<p>And with assignment expression :"
      ],
      "metadata": {
        "id": "Q4YXTkIxuErR"
      },
      "id": "Q4YXTkIxuErR"
    },
    {
      "cell_type": "code",
      "source": [
        "if (result := expensive_function(x)) > threshold:\n",
        "    do_something_with(result)"
      ],
      "metadata": {
        "id": "7g5AkqdzuEyK"
      },
      "id": "7g5AkqdzuEyK",
      "execution_count": null,
      "outputs": []
    },
    {
      "cell_type": "markdown",
      "source": [
        "<p>This reduces the overhead of calling <i>expensive_function</i> twice , optimizing performance .</p>"
      ],
      "metadata": {
        "id": "-Ygf8IJouPgA"
      },
      "id": "-Ygf8IJouPgA"
    },
    {
      "cell_type": "markdown",
      "source": [
        "<br><hr><h3>Properties, Attributes, and Methods</h3>\n",
        "<p>In Python , objects are made up of attributes (data) and methods (functions). Unlike some other languages, Python doesn't have strict rules on access levels (public, private, protected) . Instead , we rely on conventions to control access and organize code .</p>\n",
        "<h4><br>1. Attributes: Public vs. Private</h4>\n",
        "<p>In Python , attributes are public by default . That means you can access any of them from outside the class . However , to signal that an attribute is meant to be private , we use an <b>underscore</b>  \" _ \" .</p>"
      ],
      "metadata": {
        "id": "MBUKeXtEPKde"
      },
      "id": "MBUKeXtEPKde"
    },
    {
      "cell_type": "code",
      "source": [
        "class Car:\n",
        "    def __init__(self, model, price):\n",
        "        self.model = model         # Public attribute\n",
        "        self._price = price        # Private attribute (by convention)\n"
      ],
      "metadata": {
        "id": "FqAT0ZjJQoJt"
      },
      "id": "FqAT0ZjJQoJt",
      "execution_count": null,
      "outputs": []
    },
    {
      "cell_type": "markdown",
      "source": [
        "<p>Here we have values : </p>\n",
        "<ol><li>model : model can be accessed or changed by anyone . </li>\n",
        "<li>_price : should only be accessed within the class , although Python doesn't enforce this .</li></ol>"
      ],
      "metadata": {
        "id": "tgiIoAkxQpK1"
      },
      "id": "tgiIoAkxQpK1"
    },
    {
      "cell_type": "markdown",
      "source": [
        "<h4>2. Double Underscores and Name Mangling</h4>\n",
        "<p>If you use <b>double underscores</b> \" __ \" before a variable , Python changes its name to prevent accidental access from outside the class . This is called name mangling .</p>"
      ],
      "metadata": {
        "id": "nlSZO6O5RTNz"
      },
      "id": "nlSZO6O5RTNz"
    },
    {
      "cell_type": "code",
      "source": [
        "class Car:\n",
        "    def __init__(self, model, price):\n",
        "        self.__price = price\n"
      ],
      "metadata": {
        "id": "AMVNNxawR17D"
      },
      "id": "AMVNNxawR17D",
      "execution_count": null,
      "outputs": []
    },
    {
      "cell_type": "markdown",
      "source": [
        "<p>You won't be able to access \"__price\" directly . Python changes its internal name to <b>_Car__price</b> .<br>\n",
        "But remember , this doesn't make it truly private. You can still access it if you know the mangled name .</p>"
      ],
      "metadata": {
        "id": "sVxc4lcNR3YL"
      },
      "id": "sVxc4lcNR3YL"
    },
    {
      "cell_type": "markdown",
      "source": [
        "<h4>3. Properties: Cleaner access to attributes </h4>\n",
        "<p>In Python, we can use properties to manage <i>access</i> to attributes. This is done using the <b>@property</b> decorator , which allows you to define getter , setter , and deleter methods . Properties let you control how attributes are read or written without changing the class interface .</p>\n",
        "<p>let's take a closer look . consider following example that is checking the range for latitude and longitude values :</p>"
      ],
      "metadata": {
        "id": "hNS7yvW8SW9s"
      },
      "id": "hNS7yvW8SW9s"
    },
    {
      "cell_type": "code",
      "source": [
        "class Coordinate:\n",
        "    def __init__(self, lat, long):\n",
        "        self.latitude = lat\n",
        "        self.longitude = long\n",
        "\n",
        "    @property\n",
        "    def latitude(self):\n",
        "        return self._latitude\n",
        "\n",
        "    @latitude.setter\n",
        "    def latitude(self, value):\n",
        "        if not -90 <= value <= 90:\n",
        "            raise ValueError(\"Invalid latitude\")\n",
        "        self._latitude = value\n"
      ],
      "metadata": {
        "id": "K4aCBmaWSn3Q"
      },
      "id": "K4aCBmaWSn3Q",
      "execution_count": null,
      "outputs": []
    },
    {
      "cell_type": "markdown",
      "source": [
        "<p>When setting \"coordinate.latitude = 100\" , the setter checks the range and raises an error if it's out of bounds . </p>"
      ],
      "metadata": {
        "id": "rjTqzEaKTxnR"
      },
      "id": "rjTqzEaKTxnR"
    },
    {
      "cell_type": "markdown",
      "source": [
        "<p>Properties help ensure that the internal data of an object is valid while maintaining a simple interface for the user .</p>"
      ],
      "metadata": {
        "id": "gFp9DqxGT6pC"
      },
      "id": "gFp9DqxGT6pC"
    },
    {
      "cell_type": "markdown",
      "source": [
        "<h4>4. Single Responsibility and Command-Query Separation</h4>"
      ],
      "metadata": {
        "id": "svYb-_sVUBvS"
      },
      "id": "svYb-_sVUBvS"
    }
  ],
  "metadata": {
    "kernelspec": {
      "display_name": "Python 3 (ipykernel)",
      "language": "python",
      "name": "python3"
    },
    "language_info": {
      "codemirror_mode": {
        "name": "ipython",
        "version": 3
      },
      "file_extension": ".py",
      "mimetype": "text/x-python",
      "name": "python",
      "nbconvert_exporter": "python",
      "pygments_lexer": "ipython3",
      "version": "3.11.7"
    },
    "colab": {
      "provenance": []
    }
  },
  "nbformat": 4,
  "nbformat_minor": 5
}